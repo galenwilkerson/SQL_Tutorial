{
 "cells": [
  {
   "cell_type": "markdown",
   "id": "fa93f36b",
   "metadata": {},
   "source": [
    "# SQL Tutorial: Main Functionalities\n",
    "\n",
    "Structured Query Language (SQL) is the standard language for relational database management systems. This tutorial covers the essential SQL functionalities, including creating databases, manipulating data, and querying information."
   ]
  },
  {
   "cell_type": "markdown",
   "id": "a301f377",
   "metadata": {},
   "source": [
    "## 1. Creating and Managing Tables"
   ]
  },
  {
   "cell_type": "code",
   "execution_count": 27,
   "id": "e55b788a",
   "metadata": {},
   "outputs": [],
   "source": [
    "import sqlite3\n",
    "import pandas as pd\n",
    "\n",
    "# Connect to SQLite database\n",
    "conn = sqlite3.connect('example.db')\n",
    "cursor = conn.cursor()"
   ]
  },
  {
   "cell_type": "markdown",
   "id": "89fcbed4",
   "metadata": {},
   "source": [
    "### Create a Table"
   ]
  },
  {
   "cell_type": "code",
   "execution_count": 28,
   "id": "f06e9724",
   "metadata": {},
   "outputs": [],
   "source": [
    "# Create a table\n",
    "cursor.execute('''\n",
    "CREATE TABLE IF NOT EXISTS users (\n",
    "    id INTEGER PRIMARY KEY AUTOINCREMENT,\n",
    "    username TEXT NOT NULL,\n",
    "    email TEXT,\n",
    "    created_at TIMESTAMP DEFAULT CURRENT_TIMESTAMP\n",
    ")''')\n",
    "conn.commit()"
   ]
  },
  {
   "cell_type": "markdown",
   "id": "e7dd5126",
   "metadata": {},
   "source": [
    "## 2. Inserting Data"
   ]
  },
  {
   "cell_type": "markdown",
   "id": "5d9c8531",
   "metadata": {},
   "source": [
    "### Insert a Single Row"
   ]
  },
  {
   "cell_type": "code",
   "execution_count": 29,
   "id": "535e0a49",
   "metadata": {},
   "outputs": [],
   "source": [
    "# Insert a single row\n",
    "cursor.execute(\"INSERT INTO users (username, email) VALUES ('john_doe', 'john@example.com')\")\n",
    "conn.commit()"
   ]
  },
  {
   "cell_type": "markdown",
   "id": "78fd822f",
   "metadata": {},
   "source": [
    "### Insert Multiple Rows"
   ]
  },
  {
   "cell_type": "code",
   "execution_count": 30,
   "id": "3e33a16c",
   "metadata": {},
   "outputs": [],
   "source": [
    "# Insert multiple rows\n",
    "users = [\n",
    "    ('jane_doe', 'jane@example.com'),\n",
    "    ('alice_smith', 'alice@example.com')\n",
    "]\n",
    "cursor.executemany(\"INSERT INTO users (username, email) VALUES (?, ?)\", users)\n",
    "conn.commit()"
   ]
  },
  {
   "cell_type": "markdown",
   "id": "bf9c41f0",
   "metadata": {},
   "source": [
    "## 3. Querying Data"
   ]
  },
  {
   "cell_type": "markdown",
   "id": "bb1fdfca",
   "metadata": {},
   "source": [
    "### Basic Select Query"
   ]
  },
  {
   "cell_type": "code",
   "execution_count": 31,
   "id": "3e9e475e",
   "metadata": {},
   "outputs": [
    {
     "data": {
      "text/html": [
       "<div>\n",
       "<style scoped>\n",
       "    .dataframe tbody tr th:only-of-type {\n",
       "        vertical-align: middle;\n",
       "    }\n",
       "\n",
       "    .dataframe tbody tr th {\n",
       "        vertical-align: top;\n",
       "    }\n",
       "\n",
       "    .dataframe thead th {\n",
       "        text-align: right;\n",
       "    }\n",
       "</style>\n",
       "<table border=\"1\" class=\"dataframe\">\n",
       "  <thead>\n",
       "    <tr style=\"text-align: right;\">\n",
       "      <th></th>\n",
       "      <th>id</th>\n",
       "      <th>username</th>\n",
       "      <th>email</th>\n",
       "      <th>created_at</th>\n",
       "    </tr>\n",
       "  </thead>\n",
       "  <tbody>\n",
       "    <tr>\n",
       "      <th>0</th>\n",
       "      <td>2</td>\n",
       "      <td>jane_doe</td>\n",
       "      <td>jane@example.com</td>\n",
       "      <td>2024-06-05 19:24:39</td>\n",
       "    </tr>\n",
       "    <tr>\n",
       "      <th>1</th>\n",
       "      <td>3</td>\n",
       "      <td>alice_smith</td>\n",
       "      <td>alice@example.com</td>\n",
       "      <td>2024-06-05 19:24:39</td>\n",
       "    </tr>\n",
       "    <tr>\n",
       "      <th>2</th>\n",
       "      <td>5</td>\n",
       "      <td>jane_doe</td>\n",
       "      <td>jane@example.com</td>\n",
       "      <td>2024-06-05 19:24:49</td>\n",
       "    </tr>\n",
       "    <tr>\n",
       "      <th>3</th>\n",
       "      <td>6</td>\n",
       "      <td>alice_smith</td>\n",
       "      <td>alice@example.com</td>\n",
       "      <td>2024-06-05 19:24:49</td>\n",
       "    </tr>\n",
       "    <tr>\n",
       "      <th>4</th>\n",
       "      <td>7</td>\n",
       "      <td>john_doe</td>\n",
       "      <td>john@example.com</td>\n",
       "      <td>2024-06-05 19:25:10</td>\n",
       "    </tr>\n",
       "    <tr>\n",
       "      <th>5</th>\n",
       "      <td>8</td>\n",
       "      <td>jane_doe</td>\n",
       "      <td>jane@example.com</td>\n",
       "      <td>2024-06-05 19:25:10</td>\n",
       "    </tr>\n",
       "    <tr>\n",
       "      <th>6</th>\n",
       "      <td>9</td>\n",
       "      <td>alice_smith</td>\n",
       "      <td>alice@example.com</td>\n",
       "      <td>2024-06-05 19:25:10</td>\n",
       "    </tr>\n",
       "  </tbody>\n",
       "</table>\n",
       "</div>"
      ],
      "text/plain": [
       "   id     username              email           created_at\n",
       "0   2     jane_doe   jane@example.com  2024-06-05 19:24:39\n",
       "1   3  alice_smith  alice@example.com  2024-06-05 19:24:39\n",
       "2   5     jane_doe   jane@example.com  2024-06-05 19:24:49\n",
       "3   6  alice_smith  alice@example.com  2024-06-05 19:24:49\n",
       "4   7     john_doe   john@example.com  2024-06-05 19:25:10\n",
       "5   8     jane_doe   jane@example.com  2024-06-05 19:25:10\n",
       "6   9  alice_smith  alice@example.com  2024-06-05 19:25:10"
      ]
     },
     "execution_count": 31,
     "metadata": {},
     "output_type": "execute_result"
    }
   ],
   "source": [
    "# Basic select query\n",
    "df = pd.read_sql_query(\"SELECT * FROM users\", conn)\n",
    "df"
   ]
  },
  {
   "cell_type": "markdown",
   "id": "4d22193d",
   "metadata": {},
   "source": [
    "### Where Clause"
   ]
  },
  {
   "cell_type": "code",
   "execution_count": 32,
   "id": "70452df2",
   "metadata": {},
   "outputs": [
    {
     "data": {
      "text/html": [
       "<div>\n",
       "<style scoped>\n",
       "    .dataframe tbody tr th:only-of-type {\n",
       "        vertical-align: middle;\n",
       "    }\n",
       "\n",
       "    .dataframe tbody tr th {\n",
       "        vertical-align: top;\n",
       "    }\n",
       "\n",
       "    .dataframe thead th {\n",
       "        text-align: right;\n",
       "    }\n",
       "</style>\n",
       "<table border=\"1\" class=\"dataframe\">\n",
       "  <thead>\n",
       "    <tr style=\"text-align: right;\">\n",
       "      <th></th>\n",
       "      <th>id</th>\n",
       "      <th>username</th>\n",
       "      <th>email</th>\n",
       "      <th>created_at</th>\n",
       "    </tr>\n",
       "  </thead>\n",
       "  <tbody>\n",
       "    <tr>\n",
       "      <th>0</th>\n",
       "      <td>7</td>\n",
       "      <td>john_doe</td>\n",
       "      <td>john@example.com</td>\n",
       "      <td>2024-06-05 19:25:10</td>\n",
       "    </tr>\n",
       "  </tbody>\n",
       "</table>\n",
       "</div>"
      ],
      "text/plain": [
       "   id  username             email           created_at\n",
       "0   7  john_doe  john@example.com  2024-06-05 19:25:10"
      ]
     },
     "execution_count": 32,
     "metadata": {},
     "output_type": "execute_result"
    }
   ],
   "source": [
    "# Where clause\n",
    "df_where = pd.read_sql_query(\"SELECT * FROM users WHERE username = 'john_doe'\", conn)\n",
    "df_where"
   ]
  },
  {
   "cell_type": "markdown",
   "id": "d5a28d8e",
   "metadata": {},
   "source": [
    "### Order By Clause"
   ]
  },
  {
   "cell_type": "code",
   "execution_count": 33,
   "id": "2827beae",
   "metadata": {},
   "outputs": [
    {
     "data": {
      "text/html": [
       "<div>\n",
       "<style scoped>\n",
       "    .dataframe tbody tr th:only-of-type {\n",
       "        vertical-align: middle;\n",
       "    }\n",
       "\n",
       "    .dataframe tbody tr th {\n",
       "        vertical-align: top;\n",
       "    }\n",
       "\n",
       "    .dataframe thead th {\n",
       "        text-align: right;\n",
       "    }\n",
       "</style>\n",
       "<table border=\"1\" class=\"dataframe\">\n",
       "  <thead>\n",
       "    <tr style=\"text-align: right;\">\n",
       "      <th></th>\n",
       "      <th>id</th>\n",
       "      <th>username</th>\n",
       "      <th>email</th>\n",
       "      <th>created_at</th>\n",
       "    </tr>\n",
       "  </thead>\n",
       "  <tbody>\n",
       "    <tr>\n",
       "      <th>0</th>\n",
       "      <td>7</td>\n",
       "      <td>john_doe</td>\n",
       "      <td>john@example.com</td>\n",
       "      <td>2024-06-05 19:25:10</td>\n",
       "    </tr>\n",
       "    <tr>\n",
       "      <th>1</th>\n",
       "      <td>8</td>\n",
       "      <td>jane_doe</td>\n",
       "      <td>jane@example.com</td>\n",
       "      <td>2024-06-05 19:25:10</td>\n",
       "    </tr>\n",
       "    <tr>\n",
       "      <th>2</th>\n",
       "      <td>9</td>\n",
       "      <td>alice_smith</td>\n",
       "      <td>alice@example.com</td>\n",
       "      <td>2024-06-05 19:25:10</td>\n",
       "    </tr>\n",
       "    <tr>\n",
       "      <th>3</th>\n",
       "      <td>5</td>\n",
       "      <td>jane_doe</td>\n",
       "      <td>jane@example.com</td>\n",
       "      <td>2024-06-05 19:24:49</td>\n",
       "    </tr>\n",
       "    <tr>\n",
       "      <th>4</th>\n",
       "      <td>6</td>\n",
       "      <td>alice_smith</td>\n",
       "      <td>alice@example.com</td>\n",
       "      <td>2024-06-05 19:24:49</td>\n",
       "    </tr>\n",
       "    <tr>\n",
       "      <th>5</th>\n",
       "      <td>2</td>\n",
       "      <td>jane_doe</td>\n",
       "      <td>jane@example.com</td>\n",
       "      <td>2024-06-05 19:24:39</td>\n",
       "    </tr>\n",
       "    <tr>\n",
       "      <th>6</th>\n",
       "      <td>3</td>\n",
       "      <td>alice_smith</td>\n",
       "      <td>alice@example.com</td>\n",
       "      <td>2024-06-05 19:24:39</td>\n",
       "    </tr>\n",
       "  </tbody>\n",
       "</table>\n",
       "</div>"
      ],
      "text/plain": [
       "   id     username              email           created_at\n",
       "0   7     john_doe   john@example.com  2024-06-05 19:25:10\n",
       "1   8     jane_doe   jane@example.com  2024-06-05 19:25:10\n",
       "2   9  alice_smith  alice@example.com  2024-06-05 19:25:10\n",
       "3   5     jane_doe   jane@example.com  2024-06-05 19:24:49\n",
       "4   6  alice_smith  alice@example.com  2024-06-05 19:24:49\n",
       "5   2     jane_doe   jane@example.com  2024-06-05 19:24:39\n",
       "6   3  alice_smith  alice@example.com  2024-06-05 19:24:39"
      ]
     },
     "execution_count": 33,
     "metadata": {},
     "output_type": "execute_result"
    }
   ],
   "source": [
    "# Order by clause\n",
    "df_order = pd.read_sql_query(\"SELECT * FROM users ORDER BY created_at DESC\", conn)\n",
    "df_order"
   ]
  },
  {
   "cell_type": "markdown",
   "id": "c9a239e7",
   "metadata": {},
   "source": [
    "## 4. Updating Data"
   ]
  },
  {
   "cell_type": "markdown",
   "id": "610e88d8",
   "metadata": {},
   "source": [
    "### Update Specific Rows"
   ]
  },
  {
   "cell_type": "code",
   "execution_count": 34,
   "id": "3fd4ffac",
   "metadata": {},
   "outputs": [
    {
     "data": {
      "text/html": [
       "<div>\n",
       "<style scoped>\n",
       "    .dataframe tbody tr th:only-of-type {\n",
       "        vertical-align: middle;\n",
       "    }\n",
       "\n",
       "    .dataframe tbody tr th {\n",
       "        vertical-align: top;\n",
       "    }\n",
       "\n",
       "    .dataframe thead th {\n",
       "        text-align: right;\n",
       "    }\n",
       "</style>\n",
       "<table border=\"1\" class=\"dataframe\">\n",
       "  <thead>\n",
       "    <tr style=\"text-align: right;\">\n",
       "      <th></th>\n",
       "      <th>id</th>\n",
       "      <th>username</th>\n",
       "      <th>email</th>\n",
       "      <th>created_at</th>\n",
       "    </tr>\n",
       "  </thead>\n",
       "  <tbody>\n",
       "    <tr>\n",
       "      <th>0</th>\n",
       "      <td>7</td>\n",
       "      <td>john_doe</td>\n",
       "      <td>new_email@example.com</td>\n",
       "      <td>2024-06-05 19:25:10</td>\n",
       "    </tr>\n",
       "  </tbody>\n",
       "</table>\n",
       "</div>"
      ],
      "text/plain": [
       "   id  username                  email           created_at\n",
       "0   7  john_doe  new_email@example.com  2024-06-05 19:25:10"
      ]
     },
     "execution_count": 34,
     "metadata": {},
     "output_type": "execute_result"
    }
   ],
   "source": [
    "# Update specific rows\n",
    "cursor.execute(\"UPDATE users SET email = 'new_email@example.com' WHERE username = 'john_doe'\")\n",
    "conn.commit()\n",
    "df_updated = pd.read_sql_query(\"SELECT * FROM users WHERE username = 'john_doe'\", conn)\n",
    "df_updated"
   ]
  },
  {
   "cell_type": "markdown",
   "id": "8b29905c",
   "metadata": {},
   "source": [
    "## 5. Deleting Data"
   ]
  },
  {
   "cell_type": "markdown",
   "id": "7b91197f",
   "metadata": {},
   "source": [
    "### Delete Specific Rows"
   ]
  },
  {
   "cell_type": "code",
   "execution_count": 35,
   "id": "e5615c78",
   "metadata": {},
   "outputs": [
    {
     "data": {
      "text/html": [
       "<div>\n",
       "<style scoped>\n",
       "    .dataframe tbody tr th:only-of-type {\n",
       "        vertical-align: middle;\n",
       "    }\n",
       "\n",
       "    .dataframe tbody tr th {\n",
       "        vertical-align: top;\n",
       "    }\n",
       "\n",
       "    .dataframe thead th {\n",
       "        text-align: right;\n",
       "    }\n",
       "</style>\n",
       "<table border=\"1\" class=\"dataframe\">\n",
       "  <thead>\n",
       "    <tr style=\"text-align: right;\">\n",
       "      <th></th>\n",
       "      <th>id</th>\n",
       "      <th>username</th>\n",
       "      <th>email</th>\n",
       "      <th>created_at</th>\n",
       "    </tr>\n",
       "  </thead>\n",
       "  <tbody>\n",
       "    <tr>\n",
       "      <th>0</th>\n",
       "      <td>2</td>\n",
       "      <td>jane_doe</td>\n",
       "      <td>jane@example.com</td>\n",
       "      <td>2024-06-05 19:24:39</td>\n",
       "    </tr>\n",
       "    <tr>\n",
       "      <th>1</th>\n",
       "      <td>3</td>\n",
       "      <td>alice_smith</td>\n",
       "      <td>alice@example.com</td>\n",
       "      <td>2024-06-05 19:24:39</td>\n",
       "    </tr>\n",
       "    <tr>\n",
       "      <th>2</th>\n",
       "      <td>5</td>\n",
       "      <td>jane_doe</td>\n",
       "      <td>jane@example.com</td>\n",
       "      <td>2024-06-05 19:24:49</td>\n",
       "    </tr>\n",
       "    <tr>\n",
       "      <th>3</th>\n",
       "      <td>6</td>\n",
       "      <td>alice_smith</td>\n",
       "      <td>alice@example.com</td>\n",
       "      <td>2024-06-05 19:24:49</td>\n",
       "    </tr>\n",
       "    <tr>\n",
       "      <th>4</th>\n",
       "      <td>8</td>\n",
       "      <td>jane_doe</td>\n",
       "      <td>jane@example.com</td>\n",
       "      <td>2024-06-05 19:25:10</td>\n",
       "    </tr>\n",
       "    <tr>\n",
       "      <th>5</th>\n",
       "      <td>9</td>\n",
       "      <td>alice_smith</td>\n",
       "      <td>alice@example.com</td>\n",
       "      <td>2024-06-05 19:25:10</td>\n",
       "    </tr>\n",
       "  </tbody>\n",
       "</table>\n",
       "</div>"
      ],
      "text/plain": [
       "   id     username              email           created_at\n",
       "0   2     jane_doe   jane@example.com  2024-06-05 19:24:39\n",
       "1   3  alice_smith  alice@example.com  2024-06-05 19:24:39\n",
       "2   5     jane_doe   jane@example.com  2024-06-05 19:24:49\n",
       "3   6  alice_smith  alice@example.com  2024-06-05 19:24:49\n",
       "4   8     jane_doe   jane@example.com  2024-06-05 19:25:10\n",
       "5   9  alice_smith  alice@example.com  2024-06-05 19:25:10"
      ]
     },
     "execution_count": 35,
     "metadata": {},
     "output_type": "execute_result"
    }
   ],
   "source": [
    "# Delete specific rows\n",
    "cursor.execute(\"DELETE FROM users WHERE username = 'john_doe'\")\n",
    "conn.commit()\n",
    "df_deleted = pd.read_sql_query(\"SELECT * FROM users\", conn)\n",
    "df_deleted"
   ]
  },
  {
   "cell_type": "markdown",
   "id": "1fddabc1",
   "metadata": {},
   "source": [
    "## 6. Advanced Queries"
   ]
  },
  {
   "cell_type": "markdown",
   "id": "f20a70d1",
   "metadata": {},
   "source": [
    "### Join Tables"
   ]
  },
  {
   "cell_type": "code",
   "execution_count": 36,
   "id": "c24ffcb3",
   "metadata": {},
   "outputs": [],
   "source": [
    "# Create another table for join example\n",
    "cursor.execute('''\n",
    "CREATE TABLE IF NOT EXISTS orders (\n",
    "    order_id INTEGER PRIMARY KEY AUTOINCREMENT,\n",
    "    user_id INTEGER,\n",
    "    product TEXT,\n",
    "    FOREIGN KEY (user_id) REFERENCES users (id)\n",
    ")''')\n",
    "conn.commit()\n",
    "\n",
    "# Insert data into orders table\n",
    "orders = [\n",
    "    (1, 'Laptop'),\n",
    "    (2, 'Smartphone'),\n",
    "    (3, 'Tablet')\n",
    "]\n",
    "cursor.executemany(\"INSERT INTO orders (user_id, product) VALUES (?, ?)\", orders)\n",
    "conn.commit()"
   ]
  },
  {
   "cell_type": "code",
   "execution_count": 37,
   "id": "2df58076",
   "metadata": {},
   "outputs": [
    {
     "data": {
      "text/html": [
       "<div>\n",
       "<style scoped>\n",
       "    .dataframe tbody tr th:only-of-type {\n",
       "        vertical-align: middle;\n",
       "    }\n",
       "\n",
       "    .dataframe tbody tr th {\n",
       "        vertical-align: top;\n",
       "    }\n",
       "\n",
       "    .dataframe thead th {\n",
       "        text-align: right;\n",
       "    }\n",
       "</style>\n",
       "<table border=\"1\" class=\"dataframe\">\n",
       "  <thead>\n",
       "    <tr style=\"text-align: right;\">\n",
       "      <th></th>\n",
       "      <th>username</th>\n",
       "      <th>product</th>\n",
       "    </tr>\n",
       "  </thead>\n",
       "  <tbody>\n",
       "    <tr>\n",
       "      <th>0</th>\n",
       "      <td>jane_doe</td>\n",
       "      <td>Smartphone</td>\n",
       "    </tr>\n",
       "    <tr>\n",
       "      <th>1</th>\n",
       "      <td>alice_smith</td>\n",
       "      <td>Tablet</td>\n",
       "    </tr>\n",
       "    <tr>\n",
       "      <th>2</th>\n",
       "      <td>jane_doe</td>\n",
       "      <td>Smartphone</td>\n",
       "    </tr>\n",
       "    <tr>\n",
       "      <th>3</th>\n",
       "      <td>alice_smith</td>\n",
       "      <td>Tablet</td>\n",
       "    </tr>\n",
       "  </tbody>\n",
       "</table>\n",
       "</div>"
      ],
      "text/plain": [
       "      username     product\n",
       "0     jane_doe  Smartphone\n",
       "1  alice_smith      Tablet\n",
       "2     jane_doe  Smartphone\n",
       "3  alice_smith      Tablet"
      ]
     },
     "execution_count": 37,
     "metadata": {},
     "output_type": "execute_result"
    }
   ],
   "source": [
    "# Inner Join\n",
    "df_inner_join = pd.read_sql_query('''\n",
    "SELECT users.username, orders.product\n",
    "FROM users\n",
    "INNER JOIN orders ON users.id = orders.user_id\n",
    "''', conn)\n",
    "df_inner_join"
   ]
  },
  {
   "cell_type": "code",
   "execution_count": 38,
   "id": "26d360bc",
   "metadata": {},
   "outputs": [
    {
     "data": {
      "text/html": [
       "<div>\n",
       "<style scoped>\n",
       "    .dataframe tbody tr th:only-of-type {\n",
       "        vertical-align: middle;\n",
       "    }\n",
       "\n",
       "    .dataframe tbody tr th {\n",
       "        vertical-align: top;\n",
       "    }\n",
       "\n",
       "    .dataframe thead th {\n",
       "        text-align: right;\n",
       "    }\n",
       "</style>\n",
       "<table border=\"1\" class=\"dataframe\">\n",
       "  <thead>\n",
       "    <tr style=\"text-align: right;\">\n",
       "      <th></th>\n",
       "      <th>username</th>\n",
       "      <th>product</th>\n",
       "    </tr>\n",
       "  </thead>\n",
       "  <tbody>\n",
       "    <tr>\n",
       "      <th>0</th>\n",
       "      <td>jane_doe</td>\n",
       "      <td>Smartphone</td>\n",
       "    </tr>\n",
       "    <tr>\n",
       "      <th>1</th>\n",
       "      <td>jane_doe</td>\n",
       "      <td>Smartphone</td>\n",
       "    </tr>\n",
       "    <tr>\n",
       "      <th>2</th>\n",
       "      <td>alice_smith</td>\n",
       "      <td>Tablet</td>\n",
       "    </tr>\n",
       "    <tr>\n",
       "      <th>3</th>\n",
       "      <td>alice_smith</td>\n",
       "      <td>Tablet</td>\n",
       "    </tr>\n",
       "    <tr>\n",
       "      <th>4</th>\n",
       "      <td>jane_doe</td>\n",
       "      <td>None</td>\n",
       "    </tr>\n",
       "    <tr>\n",
       "      <th>5</th>\n",
       "      <td>alice_smith</td>\n",
       "      <td>None</td>\n",
       "    </tr>\n",
       "    <tr>\n",
       "      <th>6</th>\n",
       "      <td>jane_doe</td>\n",
       "      <td>None</td>\n",
       "    </tr>\n",
       "    <tr>\n",
       "      <th>7</th>\n",
       "      <td>alice_smith</td>\n",
       "      <td>None</td>\n",
       "    </tr>\n",
       "  </tbody>\n",
       "</table>\n",
       "</div>"
      ],
      "text/plain": [
       "      username     product\n",
       "0     jane_doe  Smartphone\n",
       "1     jane_doe  Smartphone\n",
       "2  alice_smith      Tablet\n",
       "3  alice_smith      Tablet\n",
       "4     jane_doe        None\n",
       "5  alice_smith        None\n",
       "6     jane_doe        None\n",
       "7  alice_smith        None"
      ]
     },
     "execution_count": 38,
     "metadata": {},
     "output_type": "execute_result"
    }
   ],
   "source": [
    "# Left Join\n",
    "df_left_join = pd.read_sql_query('''\n",
    "SELECT users.username, orders.product\n",
    "FROM users\n",
    "LEFT JOIN orders ON users.id = orders.user_id\n",
    "''', conn)\n",
    "df_left_join"
   ]
  },
  {
   "cell_type": "code",
   "execution_count": 39,
   "id": "696fa9c0",
   "metadata": {},
   "outputs": [
    {
     "data": {
      "text/html": [
       "<div>\n",
       "<style scoped>\n",
       "    .dataframe tbody tr th:only-of-type {\n",
       "        vertical-align: middle;\n",
       "    }\n",
       "\n",
       "    .dataframe tbody tr th {\n",
       "        vertical-align: top;\n",
       "    }\n",
       "\n",
       "    .dataframe thead th {\n",
       "        text-align: right;\n",
       "    }\n",
       "</style>\n",
       "<table border=\"1\" class=\"dataframe\">\n",
       "  <thead>\n",
       "    <tr style=\"text-align: right;\">\n",
       "      <th></th>\n",
       "      <th>username</th>\n",
       "      <th>product</th>\n",
       "    </tr>\n",
       "  </thead>\n",
       "  <tbody>\n",
       "    <tr>\n",
       "      <th>0</th>\n",
       "      <td>jane_doe</td>\n",
       "      <td>Smartphone</td>\n",
       "    </tr>\n",
       "    <tr>\n",
       "      <th>1</th>\n",
       "      <td>jane_doe</td>\n",
       "      <td>Smartphone</td>\n",
       "    </tr>\n",
       "    <tr>\n",
       "      <th>2</th>\n",
       "      <td>alice_smith</td>\n",
       "      <td>Tablet</td>\n",
       "    </tr>\n",
       "    <tr>\n",
       "      <th>3</th>\n",
       "      <td>alice_smith</td>\n",
       "      <td>Tablet</td>\n",
       "    </tr>\n",
       "    <tr>\n",
       "      <th>4</th>\n",
       "      <td>None</td>\n",
       "      <td>Laptop</td>\n",
       "    </tr>\n",
       "    <tr>\n",
       "      <th>5</th>\n",
       "      <td>None</td>\n",
       "      <td>Laptop</td>\n",
       "    </tr>\n",
       "  </tbody>\n",
       "</table>\n",
       "</div>"
      ],
      "text/plain": [
       "      username     product\n",
       "0     jane_doe  Smartphone\n",
       "1     jane_doe  Smartphone\n",
       "2  alice_smith      Tablet\n",
       "3  alice_smith      Tablet\n",
       "4         None      Laptop\n",
       "5         None      Laptop"
      ]
     },
     "execution_count": 39,
     "metadata": {},
     "output_type": "execute_result"
    }
   ],
   "source": [
    "# Right Join\n",
    "df_right_join = pd.read_sql_query('''\n",
    "SELECT users.username, orders.product\n",
    "FROM users\n",
    "RIGHT JOIN orders ON users.id = orders.user_id\n",
    "''', conn)\n",
    "df_right_join"
   ]
  },
  {
   "cell_type": "markdown",
   "id": "19c0efef",
   "metadata": {},
   "source": [
    "### Group By Clause"
   ]
  },
  {
   "cell_type": "code",
   "execution_count": 40,
   "id": "d9030a59",
   "metadata": {},
   "outputs": [
    {
     "data": {
      "text/html": [
       "<div>\n",
       "<style scoped>\n",
       "    .dataframe tbody tr th:only-of-type {\n",
       "        vertical-align: middle;\n",
       "    }\n",
       "\n",
       "    .dataframe tbody tr th {\n",
       "        vertical-align: top;\n",
       "    }\n",
       "\n",
       "    .dataframe thead th {\n",
       "        text-align: right;\n",
       "    }\n",
       "</style>\n",
       "<table border=\"1\" class=\"dataframe\">\n",
       "  <thead>\n",
       "    <tr style=\"text-align: right;\">\n",
       "      <th></th>\n",
       "      <th>count</th>\n",
       "      <th>created_at</th>\n",
       "    </tr>\n",
       "  </thead>\n",
       "  <tbody>\n",
       "    <tr>\n",
       "      <th>0</th>\n",
       "      <td>2</td>\n",
       "      <td>2024-06-05 19:24:39</td>\n",
       "    </tr>\n",
       "    <tr>\n",
       "      <th>1</th>\n",
       "      <td>2</td>\n",
       "      <td>2024-06-05 19:24:49</td>\n",
       "    </tr>\n",
       "    <tr>\n",
       "      <th>2</th>\n",
       "      <td>2</td>\n",
       "      <td>2024-06-05 19:25:10</td>\n",
       "    </tr>\n",
       "  </tbody>\n",
       "</table>\n",
       "</div>"
      ],
      "text/plain": [
       "   count           created_at\n",
       "0      2  2024-06-05 19:24:39\n",
       "1      2  2024-06-05 19:24:49\n",
       "2      2  2024-06-05 19:25:10"
      ]
     },
     "execution_count": 40,
     "metadata": {},
     "output_type": "execute_result"
    }
   ],
   "source": [
    "# Group by clause\n",
    "df_group_by = pd.read_sql_query('''\n",
    "SELECT COUNT(*) as count, created_at\n",
    "FROM users\n",
    "GROUP BY created_at\n",
    "''', conn)\n",
    "df_group_by"
   ]
  },
  {
   "cell_type": "markdown",
   "id": "b6662d65",
   "metadata": {},
   "source": [
    "### Having Clause"
   ]
  },
  {
   "cell_type": "code",
   "execution_count": 41,
   "id": "e552892c",
   "metadata": {},
   "outputs": [
    {
     "data": {
      "text/html": [
       "<div>\n",
       "<style scoped>\n",
       "    .dataframe tbody tr th:only-of-type {\n",
       "        vertical-align: middle;\n",
       "    }\n",
       "\n",
       "    .dataframe tbody tr th {\n",
       "        vertical-align: top;\n",
       "    }\n",
       "\n",
       "    .dataframe thead th {\n",
       "        text-align: right;\n",
       "    }\n",
       "</style>\n",
       "<table border=\"1\" class=\"dataframe\">\n",
       "  <thead>\n",
       "    <tr style=\"text-align: right;\">\n",
       "      <th></th>\n",
       "      <th>count</th>\n",
       "      <th>created_at</th>\n",
       "    </tr>\n",
       "  </thead>\n",
       "  <tbody>\n",
       "    <tr>\n",
       "      <th>0</th>\n",
       "      <td>2</td>\n",
       "      <td>2024-06-05 19:24:39</td>\n",
       "    </tr>\n",
       "    <tr>\n",
       "      <th>1</th>\n",
       "      <td>2</td>\n",
       "      <td>2024-06-05 19:24:49</td>\n",
       "    </tr>\n",
       "    <tr>\n",
       "      <th>2</th>\n",
       "      <td>2</td>\n",
       "      <td>2024-06-05 19:25:10</td>\n",
       "    </tr>\n",
       "  </tbody>\n",
       "</table>\n",
       "</div>"
      ],
      "text/plain": [
       "   count           created_at\n",
       "0      2  2024-06-05 19:24:39\n",
       "1      2  2024-06-05 19:24:49\n",
       "2      2  2024-06-05 19:25:10"
      ]
     },
     "execution_count": 41,
     "metadata": {},
     "output_type": "execute_result"
    }
   ],
   "source": [
    "# Having clause\n",
    "df_having = pd.read_sql_query('''\n",
    "SELECT COUNT(*) as count, created_at\n",
    "FROM users\n",
    "GROUP BY created_at\n",
    "HAVING COUNT(*) > 1\n",
    "''', conn)\n",
    "df_having"
   ]
  },
  {
   "cell_type": "markdown",
   "id": "a74b72c6",
   "metadata": {},
   "source": [
    "## 7. Views"
   ]
  },
  {
   "cell_type": "markdown",
   "id": "0332393d",
   "metadata": {},
   "source": [
    "### Create a View"
   ]
  },
  {
   "cell_type": "code",
   "execution_count": 42,
   "id": "a7583d39",
   "metadata": {},
   "outputs": [],
   "source": [
    "# Create a view\n",
    "cursor.execute('''\n",
    "CREATE VIEW user_emails AS\n",
    "SELECT username, email\n",
    "FROM users\n",
    "''')\n",
    "conn.commit()"
   ]
  },
  {
   "cell_type": "markdown",
   "id": "1b41f196",
   "metadata": {},
   "source": [
    "### Query a View"
   ]
  },
  {
   "cell_type": "code",
   "execution_count": 43,
   "id": "cc2dfc64",
   "metadata": {},
   "outputs": [
    {
     "data": {
      "text/html": [
       "<div>\n",
       "<style scoped>\n",
       "    .dataframe tbody tr th:only-of-type {\n",
       "        vertical-align: middle;\n",
       "    }\n",
       "\n",
       "    .dataframe tbody tr th {\n",
       "        vertical-align: top;\n",
       "    }\n",
       "\n",
       "    .dataframe thead th {\n",
       "        text-align: right;\n",
       "    }\n",
       "</style>\n",
       "<table border=\"1\" class=\"dataframe\">\n",
       "  <thead>\n",
       "    <tr style=\"text-align: right;\">\n",
       "      <th></th>\n",
       "      <th>username</th>\n",
       "      <th>email</th>\n",
       "    </tr>\n",
       "  </thead>\n",
       "  <tbody>\n",
       "    <tr>\n",
       "      <th>0</th>\n",
       "      <td>jane_doe</td>\n",
       "      <td>jane@example.com</td>\n",
       "    </tr>\n",
       "    <tr>\n",
       "      <th>1</th>\n",
       "      <td>alice_smith</td>\n",
       "      <td>alice@example.com</td>\n",
       "    </tr>\n",
       "    <tr>\n",
       "      <th>2</th>\n",
       "      <td>jane_doe</td>\n",
       "      <td>jane@example.com</td>\n",
       "    </tr>\n",
       "    <tr>\n",
       "      <th>3</th>\n",
       "      <td>alice_smith</td>\n",
       "      <td>alice@example.com</td>\n",
       "    </tr>\n",
       "    <tr>\n",
       "      <th>4</th>\n",
       "      <td>jane_doe</td>\n",
       "      <td>jane@example.com</td>\n",
       "    </tr>\n",
       "    <tr>\n",
       "      <th>5</th>\n",
       "      <td>alice_smith</td>\n",
       "      <td>alice@example.com</td>\n",
       "    </tr>\n",
       "  </tbody>\n",
       "</table>\n",
       "</div>"
      ],
      "text/plain": [
       "      username              email\n",
       "0     jane_doe   jane@example.com\n",
       "1  alice_smith  alice@example.com\n",
       "2     jane_doe   jane@example.com\n",
       "3  alice_smith  alice@example.com\n",
       "4     jane_doe   jane@example.com\n",
       "5  alice_smith  alice@example.com"
      ]
     },
     "execution_count": 43,
     "metadata": {},
     "output_type": "execute_result"
    }
   ],
   "source": [
    "# Query a view\n",
    "df_view = pd.read_sql_query(\"SELECT * FROM user_emails\", conn)\n",
    "df_view"
   ]
  },
  {
   "cell_type": "markdown",
   "id": "70e07471",
   "metadata": {},
   "source": [
    "### Drop a View"
   ]
  },
  {
   "cell_type": "code",
   "execution_count": 44,
   "id": "56a129d3",
   "metadata": {},
   "outputs": [],
   "source": [
    "# Drop a view\n",
    "cursor.execute(\"DROP VIEW user_emails\")\n",
    "conn.commit()"
   ]
  }
 ],
 "metadata": {
  "kernelspec": {
   "display_name": "Python 3 (ipykernel)",
   "language": "python",
   "name": "python3"
  },
  "language_info": {
   "codemirror_mode": {
    "name": "ipython",
    "version": 3
   },
   "file_extension": ".py",
   "mimetype": "text/x-python",
   "name": "python",
   "nbconvert_exporter": "python",
   "pygments_lexer": "ipython3",
   "version": "3.11.5"
  }
 },
 "nbformat": 4,
 "nbformat_minor": 5
}
